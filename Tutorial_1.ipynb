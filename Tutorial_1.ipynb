{
 "cells": [
  {
   "cell_type": "markdown",
   "id": "426486dd",
   "metadata": {
    "id": "426486dd"
   },
   "source": [
    "\n",
    "\n",
    "# Practical_1: Variables and Assignments"
   ]
  },
  {
   "cell_type": "markdown",
   "id": "a1bd2d65",
   "metadata": {},
   "source": [
    "Exercise 1:\n",
    "Declare a variable x and assign it the value 10.\n",
    "\n",
    "# Exercise 1"
   ]
  },
  {
   "cell_type": "code",
   "execution_count": 18,
   "id": "1899a7e3",
   "metadata": {},
   "outputs": [
    {
     "data": {
      "text/plain": [
       "10"
      ]
     },
     "execution_count": 18,
     "metadata": {},
     "output_type": "execute_result"
    }
   ],
   "source": [
    "x = 10\n",
    "x"
   ]
  },
  {
   "cell_type": "markdown",
   "id": "b817905e",
   "metadata": {},
   "source": [
    "Exercise 2:\n",
    "Assign the value True to a variable called is_valid.\n",
    "\n",
    "# Exercise 2\n"
   ]
  },
  {
   "cell_type": "code",
   "execution_count": 19,
   "id": "aa962a19",
   "metadata": {},
   "outputs": [
    {
     "data": {
      "text/plain": [
       "True"
      ]
     },
     "execution_count": 19,
     "metadata": {},
     "output_type": "execute_result"
    }
   ],
   "source": [
    "is_valid = True\n",
    "is_valid"
   ]
  },
  {
   "cell_type": "markdown",
   "id": "32a2622c",
   "metadata": {},
   "source": [
    "Exercise 3:\n",
    "Create a string variable name with the value \"Python Programming\".\n",
    "\n",
    "# Exercise 3\n"
   ]
  },
  {
   "cell_type": "code",
   "execution_count": 20,
   "id": "ee2c8cdc",
   "metadata": {},
   "outputs": [
    {
     "data": {
      "text/plain": [
       "'Python programming'"
      ]
     },
     "execution_count": 20,
     "metadata": {},
     "output_type": "execute_result"
    }
   ],
   "source": [
    "name = \"Python programming\"\n",
    "name"
   ]
  },
  {
   "cell_type": "markdown",
   "id": "c5b35de2",
   "metadata": {},
   "source": [
    "Exercise 4:\n",
    "Assign the result of 5 + 3 to a variable sum_result.\n",
    "\n",
    "# Exercise 4"
   ]
  },
  {
   "cell_type": "code",
   "execution_count": 21,
   "id": "7cc9aeb3",
   "metadata": {},
   "outputs": [
    {
     "data": {
      "text/plain": [
       "8"
      ]
     },
     "execution_count": 21,
     "metadata": {},
     "output_type": "execute_result"
    }
   ],
   "source": [
    "sum_result = 5 + 3\n",
    "sum_result"
   ]
  },
  {
   "cell_type": "markdown",
   "id": "2019e906",
   "metadata": {},
   "source": [
    "Exercise 5:\n",
    "Assign multiple variables in one line: a = 5, b = 10, c = 15.\n",
    "\n",
    "# Exercise 5"
   ]
  },
  {
   "cell_type": "code",
   "execution_count": 22,
   "id": "004527ea",
   "metadata": {},
   "outputs": [
    {
     "name": "stdout",
     "output_type": "stream",
     "text": [
      "5 10 15\n"
     ]
    }
   ],
   "source": [
    "a, b , c = 5, 10, 15\n",
    "print(a, b , c )"
   ]
  },
  {
   "cell_type": "markdown",
   "id": "774f92be",
   "metadata": {},
   "source": [
    "Exercise 6:\n",
    "Assign the value of one variable x to another variable y.\n",
    "\n",
    "# Exercise 6\n"
   ]
  },
  {
   "cell_type": "code",
   "execution_count": 23,
   "id": "1064190f",
   "metadata": {},
   "outputs": [
    {
     "name": "stdout",
     "output_type": "stream",
     "text": [
      "1\n"
     ]
    }
   ],
   "source": [
    "x = y = 1\n",
    "print(x)"
   ]
  },
  {
   "cell_type": "markdown",
   "id": "6ebf0d6a",
   "metadata": {},
   "source": [
    "Exercise 7:\n",
    "Assign a floating-point number 9.8 to a variable gravity.\n",
    "\n",
    "# Exercise 7"
   ]
  },
  {
   "cell_type": "code",
   "execution_count": 101,
   "id": "71fa6856",
   "metadata": {},
   "outputs": [
    {
     "data": {
      "text/plain": [
       "9.8"
      ]
     },
     "execution_count": 101,
     "metadata": {},
     "output_type": "execute_result"
    }
   ],
   "source": [
    "# gravity = float(9.8)\n",
    "gravity = 9.8\n",
    "gravity"
   ]
  },
  {
   "cell_type": "markdown",
   "id": "13efc6d2",
   "metadata": {},
   "source": [
    "Exercise 8:\n",
    "Create a variable country and assign it the string value of your favorite country.\n",
    "\n",
    "# Exercise 8"
   ]
  },
  {
   "cell_type": "code",
   "execution_count": 25,
   "id": "60a1cc33",
   "metadata": {},
   "outputs": [
    {
     "data": {
      "text/plain": [
       "'Japan'"
      ]
     },
     "execution_count": 25,
     "metadata": {},
     "output_type": "execute_result"
    }
   ],
   "source": [
    "country = \"Japan\"\n",
    "country"
   ]
  },
  {
   "cell_type": "markdown",
   "id": "d65bbad7",
   "metadata": {},
   "source": [
    "Exercise 9:\n",
    "Change the value of variable age from 25 to 26 in two separate steps.\n",
    "\n",
    "# Exercise 9"
   ]
  },
  {
   "cell_type": "code",
   "execution_count": 26,
   "id": "5b444c7d",
   "metadata": {},
   "outputs": [
    {
     "data": {
      "text/plain": [
       "26"
      ]
     },
     "execution_count": 26,
     "metadata": {},
     "output_type": "execute_result"
    }
   ],
   "source": [
    "age = 25\n",
    "age = 26\n",
    "age"
   ]
  },
  {
   "cell_type": "markdown",
   "id": "3f404f9b",
   "metadata": {},
   "source": [
    "Exercise 10:\n",
    "Use one variable to store the result of subtracting two numbers 20 - 7.\n",
    "\n",
    "# Exercise 10"
   ]
  },
  {
   "cell_type": "code",
   "execution_count": 27,
   "id": "2ffee426",
   "metadata": {},
   "outputs": [
    {
     "data": {
      "text/plain": [
       "13"
      ]
     },
     "execution_count": 27,
     "metadata": {},
     "output_type": "execute_result"
    }
   ],
   "source": [
    "result = 20 - 7\n",
    "result"
   ]
  },
  {
   "cell_type": "markdown",
   "id": "d4e562b2",
   "metadata": {},
   "source": [
    "Exercise 11:\n",
    "Assign an integer value and a floating-point value to two different variables.\n",
    "\n",
    "# Exercise 11\n"
   ]
  },
  {
   "cell_type": "code",
   "execution_count": 5,
   "id": "85ac8739",
   "metadata": {},
   "outputs": [],
   "source": [
    "s = int(9)\n",
    "t = float(3.6)\n",
    "\n",
    "## \n",
    "z = float(3)\n"
   ]
  },
  {
   "cell_type": "markdown",
   "id": "56d2bd46",
   "metadata": {},
   "source": [
    "Exercise 12:\n",
    "Assign a boolean value False to a variable is_completed.\n",
    "\n",
    "# Exercise 12"
   ]
  },
  {
   "cell_type": "code",
   "execution_count": 28,
   "id": "e38c08ab",
   "metadata": {},
   "outputs": [
    {
     "data": {
      "text/plain": [
       "False"
      ]
     },
     "execution_count": 28,
     "metadata": {},
     "output_type": "execute_result"
    }
   ],
   "source": [
    "is_complete = False\n",
    "is_complete"
   ]
  },
  {
   "cell_type": "markdown",
   "id": "367f208e",
   "metadata": {},
   "source": [
    "Exercise 13:\n",
    "Swap the values of two variables x and y.\n",
    "\n",
    "# Exercise 13"
   ]
  },
  {
   "cell_type": "code",
   "execution_count": 33,
   "id": "1ddd84e8",
   "metadata": {},
   "outputs": [
    {
     "name": "stdout",
     "output_type": "stream",
     "text": [
      "7 3\n"
     ]
    }
   ],
   "source": [
    "x = 3\n",
    "y = 7\n",
    "# x, y = y, x\n",
    "# print(x,y)\n",
    "\n",
    "# z = y\n",
    "# y = x\n",
    "# x = z\n",
    "# print(x,y)\n",
    "\n",
    "y = x + y \n",
    "x = y - x\n",
    "y = y - x\n",
    "print(x,y)"
   ]
  },
  {
   "cell_type": "markdown",
   "id": "bd504d6d",
   "metadata": {},
   "source": [
    "Exercise 14:\n",
    "Assign a complex number 3 + 4j to a variable complex_num.\n",
    "\n",
    "# Exercise 14"
   ]
  },
  {
   "cell_type": "code",
   "execution_count": 8,
   "id": "89aa8c9d",
   "metadata": {},
   "outputs": [],
   "source": [
    "complex_num = 3 + 4j"
   ]
  },
  {
   "cell_type": "markdown",
   "id": "90c14d7a",
   "metadata": {},
   "source": [
    "Exercise 15:\n",
    "Reassign a variable from an integer to a string.\n",
    "\n",
    "# Exercise 15"
   ]
  },
  {
   "cell_type": "code",
   "execution_count": 9,
   "id": "a92166d9",
   "metadata": {},
   "outputs": [
    {
     "data": {
      "text/plain": [
       "str"
      ]
     },
     "execution_count": 9,
     "metadata": {},
     "output_type": "execute_result"
    }
   ],
   "source": [
    "x = 4\n",
    "x = str(x)\n",
    "type(x)"
   ]
  },
  {
   "cell_type": "markdown",
   "id": "82368df4",
   "metadata": {},
   "source": [
    "Exercise 16:\n",
    "Create two variables first_name and last_name, and assign them your first and last names.\n",
    "\n",
    "# Exercise 16\n"
   ]
  },
  {
   "cell_type": "code",
   "execution_count": 37,
   "id": "66410032",
   "metadata": {},
   "outputs": [
    {
     "name": "stdout",
     "output_type": "stream",
     "text": [
      "Deborah Aunga\n"
     ]
    }
   ],
   "source": [
    "first_name = \"Deborah\"\n",
    "last_name = \"Aunga\"\n",
    "print(first_name, last_name)"
   ]
  },
  {
   "cell_type": "markdown",
   "id": "a20c40dc",
   "metadata": {},
   "source": [
    "Exercise 17:\n",
    "Create a variable temperature and assign it the value of 35.5.\n",
    "\n",
    "# Exercise 17"
   ]
  },
  {
   "cell_type": "code",
   "execution_count": 36,
   "id": "f8a98aed",
   "metadata": {},
   "outputs": [
    {
     "data": {
      "text/plain": [
       "35.5"
      ]
     },
     "execution_count": 36,
     "metadata": {},
     "output_type": "execute_result"
    }
   ],
   "source": [
    "temperature = 35.5\n",
    "temperature"
   ]
  },
  {
   "cell_type": "markdown",
   "id": "7e8882b0",
   "metadata": {},
   "source": [
    "Exercise 18:\n",
    "Assign the result of the multiplication of two numbers 8 * 6 to a variable product.\n",
    "\n",
    "# Exercise 18\n"
   ]
  },
  {
   "cell_type": "code",
   "execution_count": 35,
   "id": "15c5e89a",
   "metadata": {},
   "outputs": [
    {
     "data": {
      "text/plain": [
       "48"
      ]
     },
     "execution_count": 35,
     "metadata": {},
     "output_type": "execute_result"
    }
   ],
   "source": [
    "variable_product = 8 * 6\n",
    "variable_product"
   ]
  },
  {
   "cell_type": "markdown",
   "id": "55dc19c4",
   "metadata": {},
   "source": [
    "Exercise 19:\n",
    "Assign a sentence of your choice to a variable sentence.\n",
    "\n",
    "# Exercise 19"
   ]
  },
  {
   "cell_type": "code",
   "execution_count": 34,
   "id": "7c317798",
   "metadata": {},
   "outputs": [
    {
     "name": "stdout",
     "output_type": "stream",
     "text": [
      " I miss home\n"
     ]
    }
   ],
   "source": [
    "sentence = \" I miss home\"\n",
    "print(sentence)"
   ]
  },
  {
   "cell_type": "markdown",
   "id": "37c0268a",
   "metadata": {},
   "source": [
    "Exercise 20:\n",
    "Use an assignment to convert a string '50' into an integer variable int_value.\n",
    "\n",
    "# Exercise 20"
   ]
  },
  {
   "cell_type": "code",
   "execution_count": 17,
   "id": "41753e59",
   "metadata": {
    "scrolled": true
   },
   "outputs": [
    {
     "data": {
      "text/plain": [
       "50"
      ]
     },
     "execution_count": 17,
     "metadata": {},
     "output_type": "execute_result"
    }
   ],
   "source": [
    "int_value = int(\"50\")\n",
    "int_value"
   ]
  },
  {
   "cell_type": "markdown",
   "id": "ed6abf32",
   "metadata": {},
   "source": [
    "Exercise 21:\n",
    "Assign the result of dividing 144 by 12 to a variable quotient.\n",
    "\n",
    "# Exercise 21"
   ]
  },
  {
   "cell_type": "code",
   "execution_count": 42,
   "id": "47421fd0",
   "metadata": {},
   "outputs": [
    {
     "data": {
      "text/plain": [
       "12"
      ]
     },
     "execution_count": 42,
     "metadata": {},
     "output_type": "execute_result"
    }
   ],
   "source": [
    "quotient = 144//12\n",
    "quotient"
   ]
  },
  {
   "cell_type": "markdown",
   "id": "903e662b",
   "metadata": {},
   "source": [
    "Exercise 22:\n",
    "Assign the remainder of 47 divided by 5 to a variable remainder.\n",
    "\n",
    "# Exercise 22"
   ]
  },
  {
   "cell_type": "code",
   "execution_count": 40,
   "id": "ce28706e",
   "metadata": {},
   "outputs": [
    {
     "data": {
      "text/plain": [
       "2"
      ]
     },
     "execution_count": 40,
     "metadata": {},
     "output_type": "execute_result"
    }
   ],
   "source": [
    "remainder = 47 % 5\n",
    "remainder"
   ]
  },
  {
   "cell_type": "markdown",
   "id": "e09ccd71",
   "metadata": {},
   "source": [
    "Exercise 23:¶\n",
    "Create a variable is_student and assign it the value True.\n",
    "\n",
    "# Exercise 23"
   ]
  },
  {
   "cell_type": "code",
   "execution_count": 41,
   "id": "670836e2",
   "metadata": {},
   "outputs": [
    {
     "data": {
      "text/plain": [
       "True"
      ]
     },
     "execution_count": 41,
     "metadata": {},
     "output_type": "execute_result"
    }
   ],
   "source": [
    "is_student = True\n",
    "is_student"
   ]
  },
  {
   "cell_type": "markdown",
   "id": "46ac144a",
   "metadata": {},
   "source": [
    "Exercise 24:¶\n",
    "Use a variable to store the result of a modulo operation: 45 % 4.\n",
    "\n",
    "# Exercise 24"
   ]
  },
  {
   "cell_type": "code",
   "execution_count": 43,
   "id": "e79e355d",
   "metadata": {},
   "outputs": [
    {
     "data": {
      "text/plain": [
       "1"
      ]
     },
     "execution_count": 43,
     "metadata": {},
     "output_type": "execute_result"
    }
   ],
   "source": [
    "res = 45 % 4\n",
    "res"
   ]
  },
  {
   "cell_type": "markdown",
   "id": "1890e6af",
   "metadata": {},
   "source": [
    "Exercise 25:\n",
    "Create a variable pi and assign it the value 3.14159.\n",
    "\n",
    "# Exercise 25"
   ]
  },
  {
   "cell_type": "code",
   "execution_count": 44,
   "id": "d2102dec",
   "metadata": {},
   "outputs": [
    {
     "data": {
      "text/plain": [
       "3.14159"
      ]
     },
     "execution_count": 44,
     "metadata": {},
     "output_type": "execute_result"
    }
   ],
   "source": [
    "pi = 3.14159\n",
    "pi"
   ]
  },
  {
   "cell_type": "markdown",
   "id": "db361c28",
   "metadata": {},
   "source": [
    "Exercise 26:\n",
    "Create two variables length and width, assign them values, and calculate the area of a rectangle.\n",
    "# Exercise 26"
   ]
  },
  {
   "cell_type": "code",
   "execution_count": 45,
   "id": "1311ec03",
   "metadata": {},
   "outputs": [
    {
     "data": {
      "text/plain": [
       "143"
      ]
     },
     "execution_count": 45,
     "metadata": {},
     "output_type": "execute_result"
    }
   ],
   "source": [
    "length = 13\n",
    "width  = 11\n",
    "\n",
    "Area = length * width\n",
    "Area"
   ]
  },
  {
   "cell_type": "markdown",
   "id": "fdd7ffae",
   "metadata": {},
   "source": [
    "Exercise 27:\n",
    "Assign a negative number to a variable negative_value.\n",
    "\n",
    "# Exercise 27"
   ]
  },
  {
   "cell_type": "code",
   "execution_count": 46,
   "id": "19786334",
   "metadata": {},
   "outputs": [
    {
     "data": {
      "text/plain": [
       "-33"
      ]
     },
     "execution_count": 46,
     "metadata": {},
     "output_type": "execute_result"
    }
   ],
   "source": [
    "negative_value = -33\n",
    "negative_value"
   ]
  },
  {
   "cell_type": "markdown",
   "id": "3608c3b1",
   "metadata": {},
   "source": [
    "Exercise 28:\n",
    "Assign a string containing a special character (e.g., \"Hello, World!\") to a variable greeting.\n",
    "\n",
    "# Exercise 28"
   ]
  },
  {
   "cell_type": "code",
   "execution_count": 48,
   "id": "05bddc88",
   "metadata": {},
   "outputs": [
    {
     "data": {
      "text/plain": [
       "'Hello, World!'"
      ]
     },
     "execution_count": 48,
     "metadata": {},
     "output_type": "execute_result"
    }
   ],
   "source": [
    "greeting = \"Hello, World!\"\n",
    "greeting"
   ]
  },
  {
   "cell_type": "markdown",
   "id": "ab8f527c",
   "metadata": {},
   "source": [
    "Exercise 29:\n",
    "Create a variable population and assign it a large integer value (in billions).\n",
    "\n",
    "# Exercise 29"
   ]
  },
  {
   "cell_type": "code",
   "execution_count": 54,
   "id": "90f34eb6",
   "metadata": {},
   "outputs": [
    {
     "data": {
      "text/plain": [
       "756680642578125"
      ]
     },
     "execution_count": 54,
     "metadata": {},
     "output_type": "execute_result"
    }
   ],
   "source": [
    "population = 45 ** 9\n",
    "population"
   ]
  },
  {
   "cell_type": "markdown",
   "id": "bb6d1698",
   "metadata": {},
   "source": [
    "Exercise 30:\n",
    "Use a variable to store the result of raising 2 to the power of 8.\n",
    "\n",
    "# Exercise 30"
   ]
  },
  {
   "cell_type": "code",
   "execution_count": 55,
   "id": "c469d708",
   "metadata": {},
   "outputs": [
    {
     "data": {
      "text/plain": [
       "256"
      ]
     },
     "execution_count": 55,
     "metadata": {},
     "output_type": "execute_result"
    }
   ],
   "source": [
    "result = 2 ** 8\n",
    "result"
   ]
  },
  {
   "cell_type": "markdown",
   "id": "8f9158e9",
   "metadata": {},
   "source": [
    "Exercise 31:\n",
    "Assign a list of your favorite fruits to a variable fruits.\n",
    "\n",
    "# Exercise 31"
   ]
  },
  {
   "cell_type": "code",
   "execution_count": 57,
   "id": "00a6bace",
   "metadata": {},
   "outputs": [
    {
     "data": {
      "text/plain": [
       "['Mango', 'Banana', 'Melon']"
      ]
     },
     "execution_count": 57,
     "metadata": {},
     "output_type": "execute_result"
    }
   ],
   "source": [
    "fruits = [\"Mango\", \"Banana\",\"Melon\"]\n",
    "fruits"
   ]
  },
  {
   "cell_type": "markdown",
   "id": "71f4205a",
   "metadata": {},
   "source": [
    "Exercise 32:\n",
    "Assign a tuple of three numbers to a variable coordinates.\n",
    "\n",
    "# Exercise 32"
   ]
  },
  {
   "cell_type": "code",
   "execution_count": 60,
   "id": "d39fe447",
   "metadata": {},
   "outputs": [
    {
     "data": {
      "text/plain": [
       "tuple"
      ]
     },
     "execution_count": 60,
     "metadata": {},
     "output_type": "execute_result"
    }
   ],
   "source": [
    "coordinates = 1,3,4\n",
    "coordinates\n",
    "type(coordinates)"
   ]
  },
  {
   "cell_type": "markdown",
   "id": "8fd9ade5",
   "metadata": {},
   "source": [
    "Exercise 33:\n",
    "Assign a dictionary with keys name and age to a variable person.\n",
    "\n",
    "# Exercise 33"
   ]
  },
  {
   "cell_type": "code",
   "execution_count": 66,
   "id": "b41f18ed",
   "metadata": {},
   "outputs": [
    {
     "data": {
      "text/plain": [
       "'Debb'"
      ]
     },
     "execution_count": 66,
     "metadata": {},
     "output_type": "execute_result"
    }
   ],
   "source": [
    "person = dict(name=\"Debb\", Age=21)\n",
    "person['name']"
   ]
  },
  {
   "cell_type": "markdown",
   "id": "b6e2b487",
   "metadata": {},
   "source": [
    "Exercise 34:\n",
    "Use variables to store the sum of two floating-point numbers.\n",
    "\n",
    "# Exercise 34"
   ]
  },
  {
   "cell_type": "code",
   "execution_count": 67,
   "id": "f34be008",
   "metadata": {},
   "outputs": [
    {
     "data": {
      "text/plain": [
       "9.9"
      ]
     },
     "execution_count": 67,
     "metadata": {},
     "output_type": "execute_result"
    }
   ],
   "source": [
    "x = 4.5\n",
    "y = 5.4\n",
    "floating_point_num = x + y\n",
    "floating_point_num"
   ]
  },
  {
   "cell_type": "markdown",
   "id": "db0ed5da",
   "metadata": {},
   "source": [
    "Exercise 35:\n",
    "Create a variable is_sunny and assign it the result of a comparison 10 > 5.\n",
    "\n",
    "# Exercise 35"
   ]
  },
  {
   "cell_type": "code",
   "execution_count": 69,
   "id": "32c4e40f",
   "metadata": {},
   "outputs": [
    {
     "data": {
      "text/plain": [
       "True"
      ]
     },
     "execution_count": 69,
     "metadata": {},
     "output_type": "execute_result"
    }
   ],
   "source": [
    "is_sunny = 10 > 5\n",
    "is_sunny"
   ]
  },
  {
   "cell_type": "markdown",
   "id": "228dd649",
   "metadata": {},
   "source": [
    "Exercise 36:\n",
    "Assign a string and an integer to two different variables, then print both on one line.\n",
    "\n",
    "# Exercise 36"
   ]
  },
  {
   "cell_type": "code",
   "execution_count": 71,
   "id": "1c721184",
   "metadata": {},
   "outputs": [
    {
     "name": "stdout",
     "output_type": "stream",
     "text": [
      "I am going home at 6\n"
     ]
    }
   ],
   "source": [
    "c = \"I am going home at\"\n",
    "d = 6\n",
    "\n",
    "print(c,d)"
   ]
  },
  {
   "cell_type": "markdown",
   "id": "891d9a94",
   "metadata": {},
   "source": [
    "Exercise 37:\n",
    "Reassign a variable that originally held a number to a boolean value.\n",
    "\n",
    "# Exercise 37"
   ]
  },
  {
   "cell_type": "code",
   "execution_count": 75,
   "id": "93afe2eb",
   "metadata": {},
   "outputs": [
    {
     "data": {
      "text/plain": [
       "True"
      ]
     },
     "execution_count": 75,
     "metadata": {},
     "output_type": "execute_result"
    }
   ],
   "source": [
    "x = 500\n",
    "y = bool(x)\n",
    "y"
   ]
  },
  {
   "cell_type": "markdown",
   "id": "233e2ea8",
   "metadata": {},
   "source": [
    "Exercise 38:\n",
    "Create a variable is_weekend and assign it the result of False.\n",
    "\n",
    "# Exercise 38"
   ]
  },
  {
   "cell_type": "code",
   "execution_count": 76,
   "id": "382edaf9",
   "metadata": {},
   "outputs": [
    {
     "data": {
      "text/plain": [
       "False"
      ]
     },
     "execution_count": 76,
     "metadata": {},
     "output_type": "execute_result"
    }
   ],
   "source": [
    "is_weekend = False\n",
    "is_weekend"
   ]
  },
  {
   "cell_type": "markdown",
   "id": "e3529e5a",
   "metadata": {},
   "source": [
    "Exercise 39:\n",
    "Assign a multi-line string to a variable description.\n",
    "\n",
    "# Exercise 39"
   ]
  },
  {
   "cell_type": "code",
   "execution_count": 83,
   "id": "e8dfe4ec",
   "metadata": {},
   "outputs": [
    {
     "name": "stdout",
     "output_type": "stream",
     "text": [
      "Hello, my name is\n",
      "is debby, I am 21\n"
     ]
    }
   ],
   "source": [
    "description = '''Hello, my name is\n",
    "is debby, I am 21'''\n",
    "print (x)"
   ]
  },
  {
   "cell_type": "markdown",
   "id": "0e5c38f1",
   "metadata": {},
   "source": [
    "Exercise 40:\n",
    "Use variables to store the result of the absolute value of -25.\n",
    "\n",
    "# Exercise 40"
   ]
  },
  {
   "cell_type": "code",
   "execution_count": 85,
   "id": "30bbabc1",
   "metadata": {},
   "outputs": [
    {
     "data": {
      "text/plain": [
       "25"
      ]
     },
     "execution_count": 85,
     "metadata": {},
     "output_type": "execute_result"
    }
   ],
   "source": [
    "absol_val = abs(-25)\n",
    "absol_val"
   ]
  },
  {
   "cell_type": "markdown",
   "id": "542676a4",
   "metadata": {},
   "source": [
    "Exercise 41:\n",
    "Assign the result of a floor division 100 // 6 to a variable floor_div_result.\n",
    "\n",
    "# Exercise 41"
   ]
  },
  {
   "cell_type": "code",
   "execution_count": 87,
   "id": "2aa8dc99",
   "metadata": {},
   "outputs": [
    {
     "name": "stdout",
     "output_type": "stream",
     "text": [
      "16\n"
     ]
    }
   ],
   "source": [
    " floor_div_result = 100//6\n",
    "print( floor_div_result)"
   ]
  },
  {
   "cell_type": "markdown",
   "id": "3c3c724d",
   "metadata": {},
   "source": [
    "Exercise 42:\n",
    "Assign the result of adding a floating-point number to an integer to a variable mixed_sum.\n",
    "\n",
    "# Exercise 42"
   ]
  },
  {
   "cell_type": "code",
   "execution_count": 88,
   "id": "cb45431b",
   "metadata": {},
   "outputs": [
    {
     "data": {
      "text/plain": [
       "8.5"
      ]
     },
     "execution_count": 88,
     "metadata": {},
     "output_type": "execute_result"
    }
   ],
   "source": [
    "mixed_sum = 3.5 + 5\n",
    "mixed_sum"
   ]
  },
  {
   "cell_type": "markdown",
   "id": "7722aa49",
   "metadata": {},
   "source": [
    "Exercise 43:\n",
    "Assign a boolean value based on the comparison of two variables a = 10 and b = 15.\n",
    "\n",
    "# Exercise 43"
   ]
  },
  {
   "cell_type": "code",
   "execution_count": 91,
   "id": "5a563f50",
   "metadata": {},
   "outputs": [
    {
     "name": "stdout",
     "output_type": "stream",
     "text": [
      "True\n"
     ]
    }
   ],
   "source": [
    "a = 10\n",
    "b = 15\n",
    "value = (a == 10 and b ==15)\n",
    "print(value)"
   ]
  },
  {
   "cell_type": "markdown",
   "id": "84a504f4",
   "metadata": {},
   "source": [
    "Exercise 44:\n",
    "Assign a long sentence to a variable and count its characters using len().\n",
    "\n",
    "# Exercise 44"
   ]
  },
  {
   "cell_type": "code",
   "execution_count": 92,
   "id": "ff578f81",
   "metadata": {},
   "outputs": [
    {
     "data": {
      "text/plain": [
       "13"
      ]
     },
     "execution_count": 92,
     "metadata": {},
     "output_type": "execute_result"
    }
   ],
   "source": [
    "name = \"Deborah Aunga\"\n",
    "len(name)"
   ]
  },
  {
   "cell_type": "markdown",
   "id": "c326de7c",
   "metadata": {},
   "source": [
    "Exercise 45:\n",
    "Assign a fractional result 7 / 3 to a variable division_result.\n",
    "\n",
    "# Exercise 45"
   ]
  },
  {
   "cell_type": "code",
   "execution_count": 93,
   "id": "3c7024f0",
   "metadata": {},
   "outputs": [
    {
     "data": {
      "text/plain": [
       "2.3333333333333335"
      ]
     },
     "execution_count": 93,
     "metadata": {},
     "output_type": "execute_result"
    }
   ],
   "source": [
    "division_result = 7/3\n",
    "division_result"
   ]
  },
  {
   "cell_type": "markdown",
   "id": "13d2f5a0",
   "metadata": {},
   "source": [
    "Exercise 46:\n",
    "Create a variable speed and assign it the value of 100 kilometers per hour.\n",
    "\n",
    "# Exercise 46"
   ]
  },
  {
   "cell_type": "code",
   "execution_count": 94,
   "id": "38c4f880",
   "metadata": {},
   "outputs": [
    {
     "data": {
      "text/plain": [
       "'100 kilometers per hour'"
      ]
     },
     "execution_count": 94,
     "metadata": {},
     "output_type": "execute_result"
    }
   ],
   "source": [
    "speed = \"100 kilometers per hour\"\n",
    "speed"
   ]
  },
  {
   "cell_type": "markdown",
   "id": "5bf312c7",
   "metadata": {},
   "source": [
    "Exercise 47:\n",
    "Assign a multi-variable equation like y = 3x + 5 where x = 4 to a variable y.\n",
    "\n",
    "# Exercise 47"
   ]
  },
  {
   "cell_type": "code",
   "execution_count": 97,
   "id": "866ac91f",
   "metadata": {},
   "outputs": [
    {
     "name": "stdout",
     "output_type": "stream",
     "text": [
      "17\n"
     ]
    }
   ],
   "source": [
    "x = 4\n",
    "y = 3*x + 5\n",
    "\n",
    "print(y)"
   ]
  },
  {
   "cell_type": "markdown",
   "id": "0acef685",
   "metadata": {},
   "source": [
    "Exercise 48:\n",
    "Use variables to calculate and store the average of three numbers.\n",
    "\n",
    "# Exercise 48"
   ]
  },
  {
   "cell_type": "code",
   "execution_count": 100,
   "id": "587ae05c",
   "metadata": {},
   "outputs": [
    {
     "data": {
      "text/plain": [
       "30.0"
      ]
     },
     "execution_count": 100,
     "metadata": {},
     "output_type": "execute_result"
    }
   ],
   "source": [
    "var = [2,33,55]\n",
    "total = sum(var)\n",
    "count = len(var)\n",
    "average = total/count\n",
    "average"
   ]
  }
 ],
 "metadata": {
  "colab": {
   "provenance": []
  },
  "kernelspec": {
   "display_name": "Python 3 (ipykernel)",
   "language": "python",
   "name": "python3"
  },
  "language_info": {
   "codemirror_mode": {
    "name": "ipython",
    "version": 3
   },
   "file_extension": ".py",
   "mimetype": "text/x-python",
   "name": "python",
   "nbconvert_exporter": "python",
   "pygments_lexer": "ipython3",
   "version": "3.9.13"
  }
 },
 "nbformat": 4,
 "nbformat_minor": 5
}
